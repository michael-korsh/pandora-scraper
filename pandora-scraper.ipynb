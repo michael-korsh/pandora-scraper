{
  "cells": [
    {
      "cell_type": "code",
      "execution_count": null,
      "metadata": {
        "id": "FJ9emVefej41"
      },
      "outputs": [],
      "source": [
        "import requests\n",
        "import json\n",
        "import pandas as pd"
      ]
    },
    {
      "cell_type": "markdown",
      "metadata": {
        "id": "3rYpK7wFkLUk"
      },
      "source": [
        "**Retrieve LLC Data from Given API Query**"
      ]
    },
    {
      "cell_type": "code",
      "execution_count": null,
      "metadata": {
        "id": "ijDQIeNW-1SI"
      },
      "outputs": [],
      "source": [
        "llc_list = []"
      ]
    },
    {
      "cell_type": "code",
      "execution_count": null,
      "metadata": {
        "id": "zv7pFkPMepeU"
      },
      "outputs": [],
      "source": [
        "def get_llc_data(api_url):\n",
        "  response = requests.get(api_url).text\n",
        "  response_info = json.loads(response)\n",
        "  print(response_info)\n",
        "\n",
        "  for a in range(len(response_info['results']['officers'])):\n",
        "      results = response_info['results']\n",
        "      llc = (results['officers'][a]['officer'])\n",
        "      \n",
        "      company_name = llc['company']['name']\n",
        "      company_number = llc['company']['company_number']\n",
        "      url = llc['company']['opencorporates_url']\n",
        "      inactive = llc['inactive']\n",
        "      jurisdiction_code = llc['jurisdiction_code']\n",
        "      name = llc['name']\n",
        "      position = llc['position']\n",
        "\n",
        "      llc_info = [company_name, company_number, url, inactive, jurisdiction_code, name, position]\n",
        "      llc_list.append(llc_info)"
      ]
    },
    {
      "cell_type": "markdown",
      "metadata": {
        "id": "_x0xKGi2hSF_"
      },
      "source": [
        "**Sample API Queries**"
      ]
    },
    {
      "cell_type": "code",
      "execution_count": null,
      "metadata": {
        "colab": {
          "base_uri": "https://localhost:8080/"
        },
        "id": "ftzIv-fjfBGD",
        "outputId": "4570c025-afd1-441d-cc72-f39bbc56040c"
      },
      "outputs": [
        {
          "name": "stdout",
          "output_type": "stream",
          "text": [
            "{'api_version': '0.4', 'results': {'page': 1, 'per_page': 30, 'total_pages': 2, 'total_count': 40, 'officers': [{'officer': {'id': 99876654, 'uid': None, 'name': 'Mr. Richard E. Shanor', 'jurisdiction_code': 'us_wy', 'position': 'agent', 'retrieved_at': '2021-03-11T04:37:14+00:00', 'opencorporates_url': 'https://opencorporates.com/officers/99876654', 'start_date': None, 'end_date': None, 'occupation': None, 'current_status': None, 'inactive': True, 'address': '15 No Piney\\nStory, WY 82842 USA', 'nationality': None, 'date_of_birth': None, 'company': {'name': 'WCS Oil & Gas Corporation', 'jurisdiction_code': 'us_wy', 'company_number': '1991-000264130', 'opencorporates_url': 'https://opencorporates.com/companies/us_wy/1991-000264130'}}}, {'officer': {'id': 244764374, 'uid': None, 'name': 'Richard Lee Shanor', 'jurisdiction_code': 'us_tx', 'position': 'agent', 'retrieved_at': '2021-04-30T18:30:00+00:00', 'opencorporates_url': 'https://opencorporates.com/officers/244764374', 'start_date': None, 'end_date': None, 'occupation': None, 'current_status': None, 'inactive': True, 'address': '3801 Kirby Drive, Suite 411, Houston, TX, 77098, USA', 'nationality': None, 'date_of_birth': None, 'company': {'name': 'Derwen Resources LLC', 'jurisdiction_code': 'us_tx', 'company_number': '0800304885', 'opencorporates_url': 'https://opencorporates.com/companies/us_tx/0800304885'}}}, {'officer': {'id': 369288292, 'uid': None, 'name': 'RICHARD MCRAE SHANOR', 'jurisdiction_code': 'us_ga', 'position': 'general partner', 'retrieved_at': '2022-03-02T00:00:00+00:00', 'opencorporates_url': 'https://opencorporates.com/officers/369288292', 'start_date': None, 'end_date': None, 'occupation': None, 'current_status': None, 'inactive': False, 'address': '3350 Riverwood Parkway, Suite 1600, Atlanta, GA, 30339', 'nationality': None, 'date_of_birth': None, 'company': {'name': 'PATCHES L.P.', 'jurisdiction_code': 'us_ga', 'company_number': '10078466', 'opencorporates_url': 'https://opencorporates.com/companies/us_ga/10078466'}}}, {'officer': {'id': 286640926, 'uid': '000002', 'name': 'RICHARD SHANOR', 'jurisdiction_code': 'us_tx', 'position': 'director', 'retrieved_at': '2021-04-30T18:30:00+00:00', 'opencorporates_url': 'https://opencorporates.com/officers/286640926', 'start_date': None, 'end_date': None, 'occupation': None, 'current_status': None, 'inactive': True, 'address': '3706 AUDLEY ST APT 9311, HOUSTON, TX, 77098, USA', 'nationality': None, 'date_of_birth': None, 'company': {'name': 'Venango Oil Company LLC', 'jurisdiction_code': 'us_tx', 'company_number': '0801004729', 'opencorporates_url': 'https://opencorporates.com/companies/us_tx/0801004729'}}}, {'officer': {'id': 518851346, 'uid': '000001', 'name': 'RICHARD SHANOR', 'jurisdiction_code': 'us_tx', 'position': 'managing member', 'retrieved_at': '2021-04-30T18:30:00+00:00', 'opencorporates_url': 'https://opencorporates.com/officers/518851346', 'start_date': None, 'end_date': None, 'occupation': None, 'current_status': None, 'inactive': True, 'address': '3706 AUDLEY ST APT 9311, HOUSTON, TX, 77098, USA', 'nationality': None, 'date_of_birth': None, 'company': {'name': 'Venango Oil Company LLC', 'jurisdiction_code': 'us_tx', 'company_number': '0801004729', 'opencorporates_url': 'https://opencorporates.com/companies/us_tx/0801004729'}}}, {'officer': {'id': 485779871, 'uid': '000002', 'name': 'RICHARD SHANOR', 'jurisdiction_code': 'us_tx', 'position': 'member', 'retrieved_at': '2021-04-30T18:30:00+00:00', 'opencorporates_url': 'https://opencorporates.com/officers/485779871', 'start_date': None, 'end_date': None, 'occupation': None, 'current_status': None, 'inactive': True, 'address': '9708 WAYNE ROAD, CHEYENNE, WY, 82009, USA', 'nationality': None, 'date_of_birth': None, 'company': {'name': 'Redoubt Partners L C', 'jurisdiction_code': 'us_tx', 'company_number': '0800742435', 'opencorporates_url': 'https://opencorporates.com/companies/us_tx/0800742435'}}}, {'officer': {'id': 143975055, 'uid': None, 'name': 'RICHARD W SHANOR', 'jurisdiction_code': 'us_ut', 'position': 'agent', 'retrieved_at': '2020-03-31T17:25:49+00:00', 'opencorporates_url': 'https://opencorporates.com/officers/143975055', 'start_date': None, 'end_date': None, 'occupation': None, 'current_status': None, 'inactive': True, 'address': 'PO BOX 920073\\nSNOWBIRD, UT 840920073', 'nationality': None, 'date_of_birth': None, 'company': {'name': 'PREMIERE, INC.', 'jurisdiction_code': 'us_ut', 'company_number': '1009628-0142', 'opencorporates_url': 'https://opencorporates.com/companies/us_ut/1009628-0142'}}}, {'officer': {'id': 99532770, 'uid': None, 'name': 'Richard E. Shanor', 'jurisdiction_code': 'us_wy', 'position': 'agent', 'retrieved_at': '2021-04-10T16:53:37+00:00', 'opencorporates_url': 'https://opencorporates.com/officers/99532770', 'start_date': None, 'end_date': None, 'occupation': None, 'current_status': None, 'inactive': True, 'address': '400 E Snow King Dr\\nJackson, WY 83001 USA', 'nationality': None, 'date_of_birth': None, 'company': {'name': 'Horseshoe Estates, Ltd., A Limited Partnership', 'jurisdiction_code': 'us_wy', 'company_number': '1980-000000063', 'opencorporates_url': 'https://opencorporates.com/companies/us_wy/1980-000000063'}}}, {'officer': {'id': 99405644, 'uid': None, 'name': 'Richard E. Shanor', 'jurisdiction_code': 'us_wy', 'position': 'agent', 'retrieved_at': '2021-04-10T07:34:02+00:00', 'opencorporates_url': 'https://opencorporates.com/officers/99405644', 'start_date': None, 'end_date': None, 'occupation': None, 'current_status': None, 'inactive': True, 'address': '400 E Snow King Dr\\nJackson, WY 83001 USA', 'nationality': None, 'date_of_birth': None, 'company': {'name': 'Country Club of the Big Horns', 'jurisdiction_code': 'us_wy', 'company_number': '1980-000176563', 'opencorporates_url': 'https://opencorporates.com/companies/us_wy/1980-000176563'}}}, {'officer': {'id': 99849228, 'uid': None, 'name': 'Richard E. Shanor', 'jurisdiction_code': 'us_wy', 'position': 'agent', 'retrieved_at': '2021-04-07T05:19:20+00:00', 'opencorporates_url': 'https://opencorporates.com/officers/99849228', 'start_date': None, 'end_date': None, 'occupation': None, 'current_status': None, 'inactive': True, 'address': '15 N Piney Rd\\nStory, WY 82842 USA', 'nationality': None, 'date_of_birth': None, 'company': {'name': 'Triple S. Energy LLC', 'jurisdiction_code': 'us_wy', 'company_number': '2001-000418878', 'opencorporates_url': 'https://opencorporates.com/companies/us_wy/2001-000418878'}}}, {'officer': {'id': 99901014, 'uid': None, 'name': 'Richard E. Shanor', 'jurisdiction_code': 'us_wy', 'position': 'agent', 'retrieved_at': '2021-04-01T10:06:41+00:00', 'opencorporates_url': 'https://opencorporates.com/officers/99901014', 'start_date': None, 'end_date': None, 'occupation': None, 'current_status': None, 'inactive': True, 'address': '15 North Piney\\nStory, WY 82842 USA', 'nationality': None, 'date_of_birth': None, 'company': {'name': 'Wyoming Corral, LLC', 'jurisdiction_code': 'us_wy', 'company_number': '1994-000291053', 'opencorporates_url': 'https://opencorporates.com/companies/us_wy/1994-000291053'}}}, {'officer': {'id': 99802130, 'uid': None, 'name': 'Richard E. Shanor', 'jurisdiction_code': 'us_wy', 'position': 'agent', 'retrieved_at': '2021-04-06T13:44:37+00:00', 'opencorporates_url': 'https://opencorporates.com/officers/99802130', 'start_date': None, 'end_date': None, 'occupation': None, 'current_status': None, 'inactive': True, 'address': '15 N Piney Rd\\nStory, WY 82842 USA', 'nationality': None, 'date_of_birth': None, 'company': {'name': 'T D Gas LLC', 'jurisdiction_code': 'us_wy', 'company_number': '2001-000422772', 'opencorporates_url': 'https://opencorporates.com/companies/us_wy/2001-000422772'}}}, {'officer': {'id': 99459550, 'uid': None, 'name': 'Richard E. Shanor', 'jurisdiction_code': 'us_wy', 'position': 'agent', 'retrieved_at': '2021-04-28T06:00:38+00:00', 'opencorporates_url': 'https://opencorporates.com/officers/99459550', 'start_date': None, 'end_date': None, 'occupation': None, 'current_status': None, 'inactive': True, 'address': 'P O Box 340\\nDayton, WY 82836 USA', 'nationality': None, 'date_of_birth': None, 'company': {'name': 'Eurisco, Inc.', 'jurisdiction_code': 'us_wy', 'company_number': '1986-000234151', 'opencorporates_url': 'https://opencorporates.com/companies/us_wy/1986-000234151'}}}, {'officer': {'id': 99816732, 'uid': None, 'name': 'Richard E. Shanor', 'jurisdiction_code': 'us_wy', 'position': 'agent', 'retrieved_at': '2021-04-28T08:42:08+00:00', 'opencorporates_url': 'https://opencorporates.com/officers/99816732', 'start_date': None, 'end_date': None, 'occupation': None, 'current_status': None, 'inactive': True, 'address': '100 Paisan Avenue\\nSouth Of Dayton\\nDayton, WY 82836 USA', 'nationality': None, 'date_of_birth': None, 'company': {'name': 'The Cowboy Club', 'jurisdiction_code': 'us_wy', 'company_number': '1986-000236162', 'opencorporates_url': 'https://opencorporates.com/companies/us_wy/1986-000236162'}}}, {'officer': {'id': 99916175, 'uid': None, 'name': 'Richard Eugene Shanor', 'jurisdiction_code': 'us_wy', 'position': 'agent', 'retrieved_at': '2021-04-28T12:42:11+00:00', 'opencorporates_url': 'https://opencorporates.com/officers/99916175', 'start_date': None, 'end_date': None, 'occupation': None, 'current_status': None, 'inactive': True, 'address': 'Horseshoe Ranch\\n3 Mi N W Of Dayton\\nDayton, WY 82836 USA', 'nationality': None, 'date_of_birth': None, 'company': {'name': '3R Cattle Company', 'jurisdiction_code': 'us_wy', 'company_number': '1987-000240581', 'opencorporates_url': 'https://opencorporates.com/companies/us_wy/1987-000240581'}}}, {'officer': {'id': 99326654, 'uid': None, 'name': 'Richard Eugene Shanor', 'jurisdiction_code': 'us_wy', 'position': 'agent', 'retrieved_at': '2021-04-28T09:31:29+00:00', 'opencorporates_url': 'https://opencorporates.com/officers/99326654', 'start_date': None, 'end_date': None, 'occupation': None, 'current_status': None, 'inactive': True, 'address': '15 North Piney\\nStory, WY 82842 USA', 'nationality': None, 'date_of_birth': None, 'company': {'name': 'Big Horn Chemicals, Inc.', 'jurisdiction_code': 'us_wy', 'company_number': '1987-000241730', 'opencorporates_url': 'https://opencorporates.com/companies/us_wy/1987-000241730'}}}, {'officer': {'id': 99960451, 'uid': None, 'name': 'Richard L Shanor', 'jurisdiction_code': 'us_wy', 'position': 'agent', 'retrieved_at': '2021-03-29T05:51:17+00:00', 'opencorporates_url': 'https://opencorporates.com/officers/99960451', 'start_date': None, 'end_date': None, 'occupation': None, 'current_status': None, 'inactive': True, 'address': '9708 Wayne Rd\\nCheyenne, WY 82009 USA', 'nationality': None, 'date_of_birth': None, 'company': {'name': 'Capitol Crypt, L3C', 'jurisdiction_code': 'us_wy', 'company_number': '2012-000614505', 'opencorporates_url': 'https://opencorporates.com/companies/us_wy/2012-000614505'}}}, {'officer': {'id': 100051204, 'uid': None, 'name': 'Richard L Shanor', 'jurisdiction_code': 'us_wy', 'position': 'agent', 'retrieved_at': '2021-04-12T13:38:42+00:00', 'opencorporates_url': 'https://opencorporates.com/officers/100051204', 'start_date': None, 'end_date': None, 'occupation': None, 'current_status': None, 'inactive': True, 'address': '104 W 17th St\\nCheyenne, WY 82001 USA', 'nationality': None, 'date_of_birth': None, 'company': {'name': 'Machol & Johannes, LLC', 'jurisdiction_code': 'us_wy', 'company_number': '2014-000656982', 'opencorporates_url': 'https://opencorporates.com/companies/us_wy/2014-000656982'}}}, {'officer': {'id': 99739911, 'uid': None, 'name': 'Richard L Shanor', 'jurisdiction_code': 'us_wy', 'position': 'agent', 'retrieved_at': '2021-03-16T13:35:56+00:00', 'opencorporates_url': 'https://opencorporates.com/officers/99739911', 'start_date': None, 'end_date': None, 'occupation': None, 'current_status': None, 'inactive': True, 'address': '9708 Wayne Rd\\nCheyenne, WY 82009 USA', 'nationality': None, 'date_of_birth': None, 'company': {'name': 'Rocky Mountain Renewables, LLC', 'jurisdiction_code': 'us_wy', 'company_number': '2009-000567135', 'opencorporates_url': 'https://opencorporates.com/companies/us_wy/2009-000567135'}}}, {'officer': {'id': 99766911, 'uid': None, 'name': 'Richard L Shanor', 'jurisdiction_code': 'us_wy', 'position': 'agent', 'retrieved_at': '2021-03-20T08:07:25+00:00', 'opencorporates_url': 'https://opencorporates.com/officers/99766911', 'start_date': None, 'end_date': None, 'occupation': None, 'current_status': None, 'inactive': True, 'address': '9708 Wayne Rd\\nCheyenne, WY 82009 USA', 'nationality': None, 'date_of_birth': None, 'company': {'name': 'Borenstein & Associates, LLC', 'jurisdiction_code': 'us_wy', 'company_number': '2010-000592333', 'opencorporates_url': 'https://opencorporates.com/companies/us_wy/2010-000592333'}}}, {'officer': {'id': 386511133, 'uid': None, 'name': 'Richard L Shanor', 'jurisdiction_code': 'us_co', 'position': 'agent', 'retrieved_at': '2022-02-24T12:17:58+00:00', 'opencorporates_url': 'https://opencorporates.com/officers/386511133', 'start_date': None, 'end_date': None, 'occupation': None, 'current_status': None, 'inactive': False, 'address': '300 Carriage Way, #105, Snowmass, CO, 81615, US', 'nationality': None, 'date_of_birth': None, 'company': {'name': 'IrishBulldog, LLC', 'jurisdiction_code': 'us_co', 'company_number': '20201222999', 'opencorporates_url': 'https://opencorporates.com/companies/us_co/20201222999'}}}, {'officer': {'id': 99427272, 'uid': None, 'name': 'Richard Lee Shanor', 'jurisdiction_code': 'us_wy', 'position': 'agent', 'retrieved_at': '2021-04-05T14:58:43+00:00', 'opencorporates_url': 'https://opencorporates.com/officers/99427272', 'start_date': None, 'end_date': None, 'occupation': None, 'current_status': None, 'inactive': True, 'address': '4010 Bent Ave\\nCheyenne, WY 82001 USA', 'nationality': None, 'date_of_birth': None, 'company': {'name': 'Devil Dog Power, LLC', 'jurisdiction_code': 'us_wy', 'company_number': '2001-000426423', 'opencorporates_url': 'https://opencorporates.com/companies/us_wy/2001-000426423'}}}, {'officer': {'id': 243630469, 'uid': None, 'name': 'Richard Lee Shanor', 'jurisdiction_code': 'us_tx', 'position': 'agent', 'retrieved_at': '2021-04-30T18:30:00+00:00', 'opencorporates_url': 'https://opencorporates.com/officers/243630469', 'start_date': None, 'end_date': None, 'occupation': None, 'current_status': None, 'inactive': True, 'address': '3801 Kirby Dr, Ste 344, Houston, TX, 77098, USA', 'nationality': None, 'date_of_birth': None, 'company': {'name': 'Redoubt Partners L C', 'jurisdiction_code': 'us_tx', 'company_number': '0800742435', 'opencorporates_url': 'https://opencorporates.com/companies/us_tx/0800742435'}}}, {'officer': {'id': 246362057, 'uid': None, 'name': 'Richard Lee Shanor', 'jurisdiction_code': 'us_tx', 'position': 'agent', 'retrieved_at': '2021-04-30T18:30:00+00:00', 'opencorporates_url': 'https://opencorporates.com/officers/246362057', 'start_date': None, 'end_date': None, 'occupation': None, 'current_status': None, 'inactive': True, 'address': '2474 MANANA, STE 111, Dallas, TX, 75220, USA', 'nationality': None, 'date_of_birth': None, 'company': {'name': 'EURISCO, INC.', 'jurisdiction_code': 'us_tx', 'company_number': '0078153500', 'opencorporates_url': 'https://opencorporates.com/companies/us_tx/0078153500'}}}, {'officer': {'id': 99427269, 'uid': None, 'name': 'Richard Lee Shanor', 'jurisdiction_code': 'us_wy', 'position': 'agent', 'retrieved_at': '2021-04-05T14:58:39+00:00', 'opencorporates_url': 'https://opencorporates.com/officers/99427269', 'start_date': None, 'end_date': None, 'occupation': None, 'current_status': None, 'inactive': True, 'address': '4010 Bent Ave\\nCheyenne, WY 82001 USA', 'nationality': None, 'date_of_birth': None, 'company': {'name': 'Devil Dog Oil Company, LLC', 'jurisdiction_code': 'us_wy', 'company_number': '2001-000426427', 'opencorporates_url': 'https://opencorporates.com/companies/us_wy/2001-000426427'}}}, {'officer': {'id': 492880538, 'uid': '000001', 'name': 'Richard Lee Shanor', 'jurisdiction_code': 'us_tx', 'position': 'mm', 'retrieved_at': '2021-04-30T18:30:00+00:00', 'opencorporates_url': 'https://opencorporates.com/officers/492880538', 'start_date': None, 'end_date': None, 'occupation': None, 'current_status': None, 'inactive': True, 'address': '3522 CAREY AVE CHEYENNE, Cheyenne, WY, USA', 'nationality': None, 'date_of_birth': None, 'company': {'name': 'RELIANCE OIL COMPANY, LLC', 'jurisdiction_code': 'us_tx', 'company_number': '0701133323', 'opencorporates_url': 'https://opencorporates.com/companies/us_tx/0701133323'}}}, {'officer': {'id': 245099348, 'uid': None, 'name': 'Richard Shanor', 'jurisdiction_code': 'us_tx', 'position': 'agent', 'retrieved_at': '2021-04-30T18:30:00+00:00', 'opencorporates_url': 'https://opencorporates.com/officers/245099348', 'start_date': None, 'end_date': None, 'occupation': None, 'current_status': None, 'inactive': True, 'address': '3801 Kirby Drive, Ste. 344, Houston, TX, 77098, USA', 'nationality': None, 'date_of_birth': None, 'company': {'name': 'Wistar Oil Corporation', 'jurisdiction_code': 'us_tx', 'company_number': '0800888711', 'opencorporates_url': 'https://opencorporates.com/companies/us_tx/0800888711'}}}, {'officer': {'id': 99924620, 'uid': None, 'name': 'Richard Shanor', 'jurisdiction_code': 'us_wy', 'position': 'manager', 'retrieved_at': '2021-04-22T13:51:28+00:00', 'opencorporates_url': 'https://opencorporates.com/officers/99924620', 'start_date': None, 'end_date': None, 'occupation': None, 'current_status': None, 'inactive': True, 'address': None, 'nationality': None, 'date_of_birth': None, 'company': {'name': 'Ad Energy LLC', 'jurisdiction_code': 'us_wy', 'company_number': '2005-000495790', 'opencorporates_url': 'https://opencorporates.com/companies/us_wy/2005-000495790'}}}, {'officer': {'id': 524138141, 'uid': None, 'name': 'Richard Shanor', 'jurisdiction_code': 'us_az', 'position': 'member', 'retrieved_at': '2022-01-02T00:00:00+00:00', 'opencorporates_url': 'https://opencorporates.com/officers/524138141', 'start_date': None, 'end_date': None, 'occupation': None, 'current_status': None, 'inactive': False, 'address': '7411 Daniel Court, CHEYENNE, WY, 82009', 'nationality': None, 'date_of_birth': None, 'company': {'name': 'IrishBulldog, LLC', 'jurisdiction_code': 'us_az', 'company_number': '23113816', 'opencorporates_url': 'https://opencorporates.com/companies/us_az/23113816'}}}, {'officer': {'id': 99454324, 'uid': None, 'name': 'Richard Shanor', 'jurisdiction_code': 'us_wy', 'position': 'member/manager', 'retrieved_at': '2021-04-24T21:45:58+00:00', 'opencorporates_url': 'https://opencorporates.com/officers/99454324', 'start_date': None, 'end_date': None, 'occupation': None, 'current_status': None, 'inactive': True, 'address': None, 'nationality': None, 'date_of_birth': None, 'company': {'name': 'Energy International LLC', 'jurisdiction_code': 'us_wy', 'company_number': '2007-000542041', 'opencorporates_url': 'https://opencorporates.com/companies/us_wy/2007-000542041'}}}]}}\n",
            "{'api_version': '0.4', 'results': {'page': 2, 'per_page': 30, 'total_pages': 2, 'total_count': 40, 'officers': [{'officer': {'id': 100020237, 'uid': None, 'name': 'Richard Shanor', 'jurisdiction_code': 'us_wy', 'position': 'agent', 'retrieved_at': '2021-04-11T20:23:23+00:00', 'opencorporates_url': 'https://opencorporates.com/officers/100020237', 'start_date': None, 'end_date': None, 'occupation': None, 'current_status': None, 'inactive': True, 'company': {'name': 'SDG Holdings LLC', 'jurisdiction_code': 'us_wy', 'company_number': '2013-000642412', 'opencorporates_url': 'https://opencorporates.com/companies/us_wy/2013-000642412'}}}, {'officer': {'id': 99454322, 'uid': None, 'name': 'Richard Shanor', 'jurisdiction_code': 'us_wy', 'position': 'agent', 'retrieved_at': '2021-04-24T21:45:58+00:00', 'opencorporates_url': 'https://opencorporates.com/officers/99454322', 'start_date': None, 'end_date': None, 'occupation': None, 'current_status': None, 'inactive': True, 'company': {'name': 'Energy International LLC', 'jurisdiction_code': 'us_wy', 'company_number': '2007-000542041', 'opencorporates_url': 'https://opencorporates.com/companies/us_wy/2007-000542041'}}}, {'officer': {'id': 99454321, 'uid': None, 'name': 'Richard Shanor', 'jurisdiction_code': 'us_wy', 'position': 'agent', 'retrieved_at': '2021-04-19T06:39:17+00:00', 'opencorporates_url': 'https://opencorporates.com/officers/99454321', 'start_date': None, 'end_date': None, 'occupation': None, 'current_status': None, 'inactive': True, 'company': {'name': 'Energy International LLC', 'jurisdiction_code': 'us_wy', 'company_number': '2003-000450405', 'opencorporates_url': 'https://opencorporates.com/companies/us_wy/2003-000450405'}}}, {'officer': {'id': 518851340, 'uid': None, 'name': 'Richard Shanor', 'jurisdiction_code': 'us_tx', 'position': 'agent', 'retrieved_at': '2021-04-30T18:30:00+00:00', 'opencorporates_url': 'https://opencorporates.com/officers/518851340', 'start_date': None, 'end_date': None, 'occupation': None, 'current_status': None, 'inactive': True, 'company': {'name': 'Venango Oil Company LLC', 'jurisdiction_code': 'us_tx', 'company_number': '0801004729', 'opencorporates_url': 'https://opencorporates.com/companies/us_tx/0801004729'}}}, {'officer': {'id': 100056531, 'uid': None, 'name': 'Richard Shanor', 'jurisdiction_code': 'us_wy', 'position': 'agent', 'retrieved_at': '2021-03-07T12:24:21+00:00', 'opencorporates_url': 'https://opencorporates.com/officers/100056531', 'start_date': None, 'end_date': None, 'occupation': None, 'current_status': None, 'inactive': False, 'company': {'name': '602 West 4th Street, LLC', 'jurisdiction_code': 'us_wy', 'company_number': '2014-000658738', 'opencorporates_url': 'https://opencorporates.com/companies/us_wy/2014-000658738'}}}, {'officer': {'id': 100056532, 'uid': None, 'name': 'Richard Shanor', 'jurisdiction_code': 'us_wy', 'position': 'organizer', 'retrieved_at': '2021-03-07T12:24:21+00:00', 'opencorporates_url': 'https://opencorporates.com/officers/100056532', 'start_date': None, 'end_date': None, 'occupation': None, 'current_status': None, 'inactive': False, 'company': {'name': '602 West 4th Street, LLC', 'jurisdiction_code': 'us_wy', 'company_number': '2014-000658738', 'opencorporates_url': 'https://opencorporates.com/companies/us_wy/2014-000658738'}}}, {'officer': {'id': 431016278, 'uid': '22013233', 'name': 'Richard Shanor', 'jurisdiction_code': 'us_nv', 'position': 'member', 'retrieved_at': '2022-02-22T02:49:21+00:00', 'opencorporates_url': 'https://opencorporates.com/officers/431016278', 'start_date': None, 'end_date': None, 'occupation': None, 'current_status': 'Active', 'inactive': False, 'company': {'name': 'IrishBulldog, LLC', 'jurisdiction_code': 'us_nv', 'company_number': 'E3420302019-6', 'opencorporates_url': 'https://opencorporates.com/companies/us_nv/E3420302019-6'}}}, {'officer': {'id': 100024537, 'uid': None, 'name': 'Richard Shanor', 'jurisdiction_code': 'us_wy', 'position': 'agent', 'retrieved_at': '2021-04-11T22:31:43+00:00', 'opencorporates_url': 'https://opencorporates.com/officers/100024537', 'start_date': None, 'end_date': None, 'occupation': None, 'current_status': None, 'inactive': True, 'company': {'name': 'Integral LLC', 'jurisdiction_code': 'us_wy', 'company_number': '2013-000642411', 'opencorporates_url': 'https://opencorporates.com/companies/us_wy/2013-000642411'}}}, {'officer': {'id': 99380000, 'uid': None, 'name': 'Richard Shanor', 'jurisdiction_code': 'us_wy', 'position': 'director', 'retrieved_at': '2021-04-23T07:33:14+00:00', 'opencorporates_url': 'https://opencorporates.com/officers/99380000', 'start_date': None, 'end_date': None, 'occupation': None, 'current_status': None, 'inactive': True, 'company': {'name': \"Chief's Table Children's Foundation Inc\", 'jurisdiction_code': 'us_wy', 'company_number': '2006-000523027', 'opencorporates_url': 'https://opencorporates.com/companies/us_wy/2006-000523027'}}}, {'officer': {'id': 481022216, 'uid': None, 'name': 'Richard Shanor', 'jurisdiction_code': 'us_tx', 'position': 'agent', 'retrieved_at': '2021-04-30T18:30:00+00:00', 'opencorporates_url': 'https://opencorporates.com/officers/481022216', 'start_date': None, 'end_date': None, 'occupation': None, 'current_status': None, 'inactive': True, 'company': {'name': 'MULTI INVESTMENT CORPORATION', 'jurisdiction_code': 'us_tx', 'company_number': '0017854700', 'opencorporates_url': 'https://opencorporates.com/companies/us_tx/0017854700'}}}]}}\n",
            "{'api_version': '0.4', 'results': {'page': 1, 'per_page': 30, 'total_pages': 2, 'total_count': 51, 'officers': [{'officer': {'id': 627248706, 'uid': '66686', 'name': 'Richard L Shanor.strip', 'jurisdiction_code': 'us_wy', 'position': 'agent', 'retrieved_at': '2022-01-28T00:00:00+00:00', 'opencorporates_url': 'https://opencorporates.com/officers/627248706', 'start_date': None, 'end_date': None, 'occupation': None, 'current_status': None, 'inactive': False, 'address': '9708 Wayne Rd, Cheyenne, WY, 82009, USA', 'nationality': None, 'date_of_birth': None, 'company': {'name': 'Outrider Oil Company LLC', 'jurisdiction_code': 'us_wy', 'company_number': '2014-000669150', 'opencorporates_url': 'https://opencorporates.com/companies/us_wy/2014-000669150'}}}, {'officer': {'id': 627278046, 'uid': '66686', 'name': 'Richard L Shanor.strip', 'jurisdiction_code': 'us_wy', 'position': 'agent', 'retrieved_at': '2022-01-28T00:00:00+00:00', 'opencorporates_url': 'https://opencorporates.com/officers/627278046', 'start_date': None, 'end_date': None, 'occupation': None, 'current_status': None, 'inactive': False, 'address': '9708 Wayne Rd, Cheyenne, WY, 82009, USA', 'nationality': None, 'date_of_birth': None, 'company': {'name': 'Redoubt Partners LC', 'jurisdiction_code': 'us_wy', 'company_number': '2015-000679949', 'opencorporates_url': 'https://opencorporates.com/companies/us_wy/2015-000679949'}}}, {'officer': {'id': 627684006, 'uid': '66686', 'name': 'Richard L Shanor.strip', 'jurisdiction_code': 'us_wy', 'position': 'agent', 'retrieved_at': '2022-01-28T00:00:00+00:00', 'opencorporates_url': 'https://opencorporates.com/officers/627684006', 'start_date': None, 'end_date': None, 'occupation': None, 'current_status': None, 'inactive': False, 'address': '9708 Wayne Rd, Cheyenne, WY, 82009, USA', 'nationality': None, 'date_of_birth': None, 'company': {'name': 'Kilter Operating LC', 'jurisdiction_code': 'us_wy', 'company_number': '2019-000846791', 'opencorporates_url': 'https://opencorporates.com/companies/us_wy/2019-000846791'}}}, {'officer': {'id': 627684003, 'uid': '3941108', 'name': 'Richard L Shanor.strip', 'jurisdiction_code': 'us_wy', 'position': 'organizer', 'retrieved_at': '2022-01-28T00:00:00+00:00', 'opencorporates_url': 'https://opencorporates.com/officers/627684003', 'start_date': None, 'end_date': None, 'occupation': None, 'current_status': None, 'inactive': False, 'address': '9708 Wayne Road, Cheyenne, Wyoming 82009', 'nationality': None, 'date_of_birth': None, 'company': {'name': 'Kilter Operating LC', 'jurisdiction_code': 'us_wy', 'company_number': '2019-000846791', 'opencorporates_url': 'https://opencorporates.com/companies/us_wy/2019-000846791'}}}, {'officer': {'id': 627132717, 'uid': '66686', 'name': 'Richard L Shanor.strip', 'jurisdiction_code': 'us_wy', 'position': 'agent', 'retrieved_at': '2022-01-28T00:00:00+00:00', 'opencorporates_url': 'https://opencorporates.com/officers/627132717', 'start_date': None, 'end_date': None, 'occupation': None, 'current_status': None, 'inactive': False, 'address': '9708 Wayne Rd, Cheyenne, WY, 82009, USA', 'nationality': None, 'date_of_birth': None, 'company': {'name': 'Crest Oil Company LC', 'jurisdiction_code': 'us_wy', 'company_number': '2012-000623204', 'opencorporates_url': 'https://opencorporates.com/companies/us_wy/2012-000623204'}}}, {'officer': {'id': 627203682, 'uid': '66686', 'name': 'Richard L Shanor.strip', 'jurisdiction_code': 'us_wy', 'position': 'agent', 'retrieved_at': '2022-01-28T00:00:00+00:00', 'opencorporates_url': 'https://opencorporates.com/officers/627203682', 'start_date': None, 'end_date': None, 'occupation': None, 'current_status': None, 'inactive': False, 'address': '9708 Wayne Rd, Cheyenne, WY, 82009, USA', 'nationality': None, 'date_of_birth': None, 'company': {'name': 'Oxbow Oil Company LC', 'jurisdiction_code': 'us_wy', 'company_number': '2013-000652412', 'opencorporates_url': 'https://opencorporates.com/companies/us_wy/2013-000652412'}}}, {'officer': {'id': 627280206, 'uid': '66686', 'name': 'Richard L Shanor.strip', 'jurisdiction_code': 'us_wy', 'position': 'agent', 'retrieved_at': '2022-01-28T00:00:00+00:00', 'opencorporates_url': 'https://opencorporates.com/officers/627280206', 'start_date': None, 'end_date': None, 'occupation': None, 'current_status': None, 'inactive': False, 'address': '9708 Wayne Rd, Cheyenne, WY, 82009, USA', 'nationality': None, 'date_of_birth': None, 'company': {'name': 'Magnolia Petroleum Company LLC', 'jurisdiction_code': 'us_wy', 'company_number': '2015-000680687', 'opencorporates_url': 'https://opencorporates.com/companies/us_wy/2015-000680687'}}}, {'officer': {'id': 627277962, 'uid': '66686', 'name': 'Richard L Shanor.strip', 'jurisdiction_code': 'us_wy', 'position': 'agent', 'retrieved_at': '2022-01-28T00:00:00+00:00', 'opencorporates_url': 'https://opencorporates.com/officers/627277962', 'start_date': None, 'end_date': None, 'occupation': None, 'current_status': None, 'inactive': True, 'address': '9708 Wayne Rd, Cheyenne, WY, 82009, USA', 'nationality': None, 'date_of_birth': None, 'company': {'name': 'Mammoth Oil Company, LLC', 'jurisdiction_code': 'us_wy', 'company_number': '2015-000679897', 'opencorporates_url': 'https://opencorporates.com/companies/us_wy/2015-000679897'}}}, {'officer': {'id': 627476781, 'uid': '66686', 'name': 'Richard L Shanor.strip', 'jurisdiction_code': 'us_wy', 'position': 'agent', 'retrieved_at': '2022-01-28T00:00:00+00:00', 'opencorporates_url': 'https://opencorporates.com/officers/627476781', 'start_date': None, 'end_date': None, 'occupation': None, 'current_status': None, 'inactive': False, 'address': '9708 Wayne Rd, Cheyenne, WY, 82009, USA', 'nationality': None, 'date_of_birth': None, 'company': {'name': 'Venango Oil Company LLC', 'jurisdiction_code': 'us_wy', 'company_number': '2017-000746259', 'opencorporates_url': 'https://opencorporates.com/companies/us_wy/2017-000746259'}}}, {'officer': {'id': 626803590, 'uid': '66686', 'name': 'Richard L Shanor.strip', 'jurisdiction_code': 'us_wy', 'position': 'agent', 'retrieved_at': '2022-01-28T00:00:00+00:00', 'opencorporates_url': 'https://opencorporates.com/officers/626803590', 'start_date': None, 'end_date': None, 'occupation': None, 'current_status': None, 'inactive': True, 'address': '9708 Wayne Rd, Cheyenne, WY, 82009, USA', 'nationality': None, 'date_of_birth': None, 'company': {'name': 'Reliance Oil Company, LLC', 'jurisdiction_code': 'us_wy', 'company_number': '1995-000298609', 'opencorporates_url': 'https://opencorporates.com/companies/us_wy/1995-000298609'}}}, {'officer': {'id': 627100083, 'uid': '2239629', 'name': 'Richard Shanor.strip', 'jurisdiction_code': 'us_wy', 'position': 'organizer', 'retrieved_at': '2022-01-28T00:00:00+00:00', 'opencorporates_url': 'https://opencorporates.com/officers/627100083', 'start_date': None, 'end_date': None, 'occupation': None, 'current_status': None, 'inactive': False, 'address': None, 'nationality': None, 'date_of_birth': None, 'company': {'name': '1714 Capitol Ave. Property, LLC', 'jurisdiction_code': 'us_wy', 'company_number': '2011-000608765', 'opencorporates_url': 'https://opencorporates.com/companies/us_wy/2011-000608765'}}}, {'officer': {'id': 628165338, 'uid': '114958', 'name': 'Richard Shanor.strip', 'jurisdiction_code': 'us_wy', 'position': 'agent', 'retrieved_at': '2022-01-03T00:00:00+00:00', 'opencorporates_url': 'https://opencorporates.com/officers/628165338', 'start_date': None, 'end_date': None, 'occupation': None, 'current_status': None, 'inactive': False, 'address': '7411 Daniel Court, Cheyenne, WY, 82009, USA', 'nationality': None, 'date_of_birth': None, 'company': {'name': 'Virtuoso Global Sourcing, Inc.', 'jurisdiction_code': 'us_wy', 'company_number': '2020-000948061', 'opencorporates_url': 'https://opencorporates.com/companies/us_wy/2020-000948061'}}}, {'officer': {'id': 628219185, 'uid': '4394656', 'name': 'Richard Shanor.strip', 'jurisdiction_code': 'us_wy', 'position': 'organizer', 'retrieved_at': '2022-01-03T00:00:00+00:00', 'opencorporates_url': 'https://opencorporates.com/officers/628219185', 'start_date': None, 'end_date': None, 'occupation': None, 'current_status': None, 'inactive': False, 'address': '7411 Daniel Court, Cheyenne, WY 82009', 'nationality': None, 'date_of_birth': None, 'company': {'name': 'Nodefense307, LLC', 'jurisdiction_code': 'us_wy', 'company_number': '2020-000961063', 'opencorporates_url': 'https://opencorporates.com/companies/us_wy/2020-000961063'}}}, {'officer': {'id': 628219194, 'uid': '114958', 'name': 'Richard Shanor.strip', 'jurisdiction_code': 'us_wy', 'position': 'agent', 'retrieved_at': '2022-01-03T00:00:00+00:00', 'opencorporates_url': 'https://opencorporates.com/officers/628219194', 'start_date': None, 'end_date': None, 'occupation': None, 'current_status': None, 'inactive': False, 'address': '7411 Daniel Court, Cheyenne, WY, 82009, USA', 'nationality': None, 'date_of_birth': None, 'company': {'name': 'Nodefense307, LLC', 'jurisdiction_code': 'us_wy', 'company_number': '2020-000961063', 'opencorporates_url': 'https://opencorporates.com/companies/us_wy/2020-000961063'}}}, {'officer': {'id': 628106685, 'uid': '4311594', 'name': 'Richard Shanor.strip', 'jurisdiction_code': 'us_wy', 'position': 'organizer', 'retrieved_at': '2022-01-03T00:00:00+00:00', 'opencorporates_url': 'https://opencorporates.com/officers/628106685', 'start_date': None, 'end_date': None, 'occupation': None, 'current_status': None, 'inactive': False, 'address': '7411 Daniel Court, Cheyenne, WY 82009', 'nationality': None, 'date_of_birth': None, 'company': {'name': 'Lucky307, LLC', 'jurisdiction_code': 'us_wy', 'company_number': '2020-000936195', 'opencorporates_url': 'https://opencorporates.com/companies/us_wy/2020-000936195'}}}, {'officer': {'id': 628325853, 'uid': '4473933', 'name': 'Richard Shanor.strip', 'jurisdiction_code': 'us_wy', 'position': 'organizer', 'retrieved_at': '2021-11-29T00:00:00+00:00', 'opencorporates_url': 'https://opencorporates.com/officers/628325853', 'start_date': None, 'end_date': None, 'occupation': None, 'current_status': None, 'inactive': False, 'address': '7411 Daniel Court, Cheyenne, WY 82009', 'nationality': None, 'date_of_birth': None, 'company': {'name': 'Cocoscabana LLC', 'jurisdiction_code': 'us_wy', 'company_number': '2021-000984381', 'opencorporates_url': 'https://opencorporates.com/companies/us_wy/2021-000984381'}}}, {'officer': {'id': 628157490, 'uid': '4344793', 'name': 'Richard Shanor.strip', 'jurisdiction_code': 'us_wy', 'position': 'organizer', 'retrieved_at': '2022-01-03T00:00:00+00:00', 'opencorporates_url': 'https://opencorporates.com/officers/628157490', 'start_date': None, 'end_date': None, 'occupation': None, 'current_status': None, 'inactive': False, 'address': '7411 Daniel Court, Cheyenne, WY 82009', 'nationality': None, 'date_of_birth': None, 'company': {'name': 'CloverDog,LLC', 'jurisdiction_code': 'us_wy', 'company_number': '2020-000946604', 'opencorporates_url': 'https://opencorporates.com/companies/us_wy/2020-000946604'}}}, {'officer': {'id': 627203679, 'uid': '2714918', 'name': 'Richard Shanor.strip', 'jurisdiction_code': 'us_wy', 'position': 'organizer', 'retrieved_at': '2022-01-28T00:00:00+00:00', 'opencorporates_url': 'https://opencorporates.com/officers/627203679', 'start_date': None, 'end_date': None, 'occupation': None, 'current_status': None, 'inactive': False, 'address': None, 'nationality': None, 'date_of_birth': None, 'company': {'name': 'Oxbow Oil Company LC', 'jurisdiction_code': 'us_wy', 'company_number': '2013-000652412', 'opencorporates_url': 'https://opencorporates.com/companies/us_wy/2013-000652412'}}}, {'officer': {'id': 627616923, 'uid': '114958', 'name': 'Richard Shanor.strip', 'jurisdiction_code': 'us_wy', 'position': 'agent', 'retrieved_at': '2022-01-28T00:00:00+00:00', 'opencorporates_url': 'https://opencorporates.com/officers/627616923', 'start_date': None, 'end_date': None, 'occupation': None, 'current_status': None, 'inactive': False, 'address': '7411 Daniel Court, Cheyenne, WY, 82009, USA', 'nationality': None, 'date_of_birth': None, 'company': {'name': 'UncleToby307, LLC', 'jurisdiction_code': 'us_wy', 'company_number': '2018-000829726', 'opencorporates_url': 'https://opencorporates.com/companies/us_wy/2018-000829726'}}}, {'officer': {'id': 628455999, 'uid': '4559723', 'name': 'Richard Shanor.strip', 'jurisdiction_code': 'us_wy', 'position': 'organizer', 'retrieved_at': '2022-01-03T00:00:00+00:00', 'opencorporates_url': 'https://opencorporates.com/officers/628455999', 'start_date': None, 'end_date': None, 'occupation': None, 'current_status': None, 'inactive': False, 'address': '7411 Daniel Court, Cheyenne, WY 82009', 'nationality': None, 'date_of_birth': None, 'company': {'name': 'Henslayer, LLC', 'jurisdiction_code': 'us_wy', 'company_number': '2021-001012598', 'opencorporates_url': 'https://opencorporates.com/companies/us_wy/2021-001012598'}}}, {'officer': {'id': 628299957, 'uid': '114958', 'name': 'Richard Shanor.strip', 'jurisdiction_code': 'us_wy', 'position': 'agent', 'retrieved_at': '2022-01-03T00:00:00+00:00', 'opencorporates_url': 'https://opencorporates.com/officers/628299957', 'start_date': None, 'end_date': None, 'occupation': None, 'current_status': None, 'inactive': False, 'address': '7411 Daniel Court, Cheyenne, WY, 82009, USA', 'nationality': None, 'date_of_birth': None, 'company': {'name': 'Pumpedprimate307, LLC', 'jurisdiction_code': 'us_wy', 'company_number': '2021-000979031', 'opencorporates_url': 'https://opencorporates.com/companies/us_wy/2021-000979031'}}}, {'officer': {'id': 627697389, 'uid': '114958', 'name': 'Richard Shanor.strip', 'jurisdiction_code': 'us_wy', 'position': 'agent', 'retrieved_at': '2022-01-28T00:00:00+00:00', 'opencorporates_url': 'https://opencorporates.com/officers/627697389', 'start_date': None, 'end_date': None, 'occupation': None, 'current_status': None, 'inactive': False, 'address': '7411 Daniel Court, Cheyenne, WY, 82009, USA', 'nationality': None, 'date_of_birth': None, 'company': {'name': 'IrishBulldog, LLC', 'jurisdiction_code': 'us_wy', 'company_number': '2019-000849972', 'opencorporates_url': 'https://opencorporates.com/companies/us_wy/2019-000849972'}}}, {'officer': {'id': 629100156, 'uid': '4723928', 'name': 'Richard Shanor.strip', 'jurisdiction_code': 'us_wy', 'position': 'organizer', 'retrieved_at': '2022-01-03T00:00:00+00:00', 'opencorporates_url': 'https://opencorporates.com/officers/629100156', 'start_date': None, 'end_date': None, 'occupation': None, 'current_status': None, 'inactive': False, 'address': '7411 Daniel Court, Cheyenne, WY 82009', 'nationality': None, 'date_of_birth': None, 'company': {'name': 'Wind River Upgrades, LLC', 'jurisdiction_code': 'us_wy', 'company_number': '2021-001065336', 'opencorporates_url': 'https://opencorporates.com/companies/us_wy/2021-001065336'}}}, {'officer': {'id': 629100165, 'uid': '114958', 'name': 'Richard Shanor.strip', 'jurisdiction_code': 'us_wy', 'position': 'agent', 'retrieved_at': '2022-01-03T00:00:00+00:00', 'opencorporates_url': 'https://opencorporates.com/officers/629100165', 'start_date': None, 'end_date': None, 'occupation': None, 'current_status': None, 'inactive': False, 'address': '7411 Daniel Court, Cheyenne, WY, 82009, USA', 'nationality': None, 'date_of_birth': None, 'company': {'name': 'Wind River Upgrades, LLC', 'jurisdiction_code': 'us_wy', 'company_number': '2021-001065336', 'opencorporates_url': 'https://opencorporates.com/companies/us_wy/2021-001065336'}}}, {'officer': {'id': 627418326, 'uid': '114958', 'name': 'Richard Shanor.strip', 'jurisdiction_code': 'us_wy', 'position': 'agent', 'retrieved_at': '2022-01-28T00:00:00+00:00', 'opencorporates_url': 'https://opencorporates.com/officers/627418326', 'start_date': None, 'end_date': None, 'occupation': None, 'current_status': None, 'inactive': False, 'address': '7411 Daniel Court, Cheyenne, WY, 82009, USA', 'nationality': None, 'date_of_birth': None, 'company': {'name': 'The Establishment 307, LLC', 'jurisdiction_code': 'us_wy', 'company_number': '2016-000719789', 'opencorporates_url': 'https://opencorporates.com/companies/us_wy/2016-000719789'}}}, {'officer': {'id': 627671523, 'uid': '3929164', 'name': 'Richard Shanor.strip', 'jurisdiction_code': 'us_wy', 'position': 'organizer', 'retrieved_at': '2022-01-28T00:00:00+00:00', 'opencorporates_url': 'https://opencorporates.com/officers/627671523', 'start_date': None, 'end_date': None, 'occupation': None, 'current_status': None, 'inactive': False, 'address': '7411 Daniel Court, Cheyenne, WY 82009', 'nationality': None, 'date_of_birth': None, 'company': {'name': 'Argos22, LLC', 'jurisdiction_code': 'us_wy', 'company_number': '2019-000844890', 'opencorporates_url': 'https://opencorporates.com/companies/us_wy/2019-000844890'}}}, {'officer': {'id': 627616920, 'uid': '3850568', 'name': 'Richard Shanor.strip', 'jurisdiction_code': 'us_wy', 'position': 'organizer', 'retrieved_at': '2022-01-28T00:00:00+00:00', 'opencorporates_url': 'https://opencorporates.com/officers/627616920', 'start_date': None, 'end_date': None, 'occupation': None, 'current_status': None, 'inactive': False, 'address': '7411 Daniel Court, Cheyenne, WY 82009', 'nationality': None, 'date_of_birth': None, 'company': {'name': 'UncleToby307, LLC', 'jurisdiction_code': 'us_wy', 'company_number': '2018-000829726', 'opencorporates_url': 'https://opencorporates.com/companies/us_wy/2018-000829726'}}}, {'officer': {'id': 627476778, 'uid': '3419894', 'name': 'Richard Shanor.strip', 'jurisdiction_code': 'us_wy', 'position': 'organizer', 'retrieved_at': '2022-01-28T00:00:00+00:00', 'opencorporates_url': 'https://opencorporates.com/officers/627476778', 'start_date': None, 'end_date': None, 'occupation': None, 'current_status': None, 'inactive': False, 'address': '9708 Wayne Road, Cheyenne, Wyoming 82009', 'nationality': None, 'date_of_birth': None, 'company': {'name': 'Venango Oil Company LLC', 'jurisdiction_code': 'us_wy', 'company_number': '2017-000746259', 'opencorporates_url': 'https://opencorporates.com/companies/us_wy/2017-000746259'}}}, {'officer': {'id': 627697386, 'uid': '3955662', 'name': 'Richard Shanor.strip', 'jurisdiction_code': 'us_wy', 'position': 'organizer', 'retrieved_at': '2022-01-28T00:00:00+00:00', 'opencorporates_url': 'https://opencorporates.com/officers/627697386', 'start_date': None, 'end_date': None, 'occupation': None, 'current_status': None, 'inactive': False, 'address': '7411 Daniel Court, Cheyenne, WY 82009', 'nationality': None, 'date_of_birth': None, 'company': {'name': 'IrishBulldog, LLC', 'jurisdiction_code': 'us_wy', 'company_number': '2019-000849972', 'opencorporates_url': 'https://opencorporates.com/companies/us_wy/2019-000849972'}}}, {'officer': {'id': 628299954, 'uid': '4457109', 'name': 'Richard Shanor.strip', 'jurisdiction_code': 'us_wy', 'position': 'organizer', 'retrieved_at': '2022-01-03T00:00:00+00:00', 'opencorporates_url': 'https://opencorporates.com/officers/628299954', 'start_date': None, 'end_date': None, 'occupation': None, 'current_status': None, 'inactive': False, 'address': '7411 Daniel Court, Cheyenne, WY 82009', 'nationality': None, 'date_of_birth': None, 'company': {'name': 'Pumpedprimate307, LLC', 'jurisdiction_code': 'us_wy', 'company_number': '2021-000979031', 'opencorporates_url': 'https://opencorporates.com/companies/us_wy/2021-000979031'}}}]}}\n",
            "{'api_version': '0.4', 'results': {'page': 2, 'per_page': 30, 'total_pages': 2, 'total_count': 51, 'officers': [{'officer': {'id': 628106706, 'uid': '114958', 'name': 'Richard Shanor.strip', 'jurisdiction_code': 'us_wy', 'position': 'agent', 'retrieved_at': '2022-01-03T00:00:00+00:00', 'opencorporates_url': 'https://opencorporates.com/officers/628106706', 'start_date': None, 'end_date': None, 'occupation': None, 'current_status': None, 'inactive': False, 'address': '7411 Daniel Court, Cheyenne, WY, 82009, USA', 'nationality': None, 'date_of_birth': None, 'company': {'name': 'Lucky307, LLC', 'jurisdiction_code': 'us_wy', 'company_number': '2020-000936195', 'opencorporates_url': 'https://opencorporates.com/companies/us_wy/2020-000936195'}}}, {'officer': {'id': 627418323, 'uid': '3269183', 'name': 'Richard Shanor.strip', 'jurisdiction_code': 'us_wy', 'position': 'organizer', 'retrieved_at': '2022-01-28T00:00:00+00:00', 'opencorporates_url': 'https://opencorporates.com/officers/627418323', 'start_date': None, 'end_date': None, 'occupation': None, 'current_status': None, 'inactive': False, 'address': '7411 Daniel Ct, Cheyenne, Laramie County, WY  82009', 'nationality': None, 'date_of_birth': None, 'company': {'name': 'The Establishment 307, LLC', 'jurisdiction_code': 'us_wy', 'company_number': '2016-000719789', 'opencorporates_url': 'https://opencorporates.com/companies/us_wy/2016-000719789'}}}, {'officer': {'id': 627590778, 'uid': '3785603', 'name': 'Richard Shanor.strip', 'jurisdiction_code': 'us_wy', 'position': 'organizer', 'retrieved_at': '2022-01-28T00:00:00+00:00', 'opencorporates_url': 'https://opencorporates.com/officers/627590778', 'start_date': None, 'end_date': None, 'occupation': None, 'current_status': None, 'inactive': False, 'address': '7411 Daniel Court, Cheyenne, WY 82009', 'nationality': None, 'date_of_birth': None, 'company': {'name': 'The Leon Group, LLC', 'jurisdiction_code': 'us_wy', 'company_number': '2018-000817251', 'opencorporates_url': 'https://opencorporates.com/companies/us_wy/2018-000817251'}}}, {'officer': {'id': 627729189, 'uid': '114958', 'name': 'Richard Shanor.strip', 'jurisdiction_code': 'us_wy', 'position': 'agent', 'retrieved_at': '2022-01-28T00:00:00+00:00', 'opencorporates_url': 'https://opencorporates.com/officers/627729189', 'start_date': None, 'end_date': None, 'occupation': None, 'current_status': None, 'inactive': False, 'address': '7411 Daniel Court, Cheyenne, WY, 82009, USA', 'nationality': None, 'date_of_birth': None, 'company': {'name': '7Out,LLC', 'jurisdiction_code': 'us_wy', 'company_number': '2019-000856858', 'opencorporates_url': 'https://opencorporates.com/companies/us_wy/2019-000856858'}}}, {'officer': {'id': 628209987, 'uid': '4386259', 'name': 'Richard Shanor.strip', 'jurisdiction_code': 'us_wy', 'position': 'organizer', 'retrieved_at': '2022-01-03T00:00:00+00:00', 'opencorporates_url': 'https://opencorporates.com/officers/628209987', 'start_date': None, 'end_date': None, 'occupation': None, 'current_status': None, 'inactive': False, 'address': '7411 Daniel Court, Cheyenne, WY 82009', 'nationality': None, 'date_of_birth': None, 'company': {'name': 'IrishEli, LLC', 'jurisdiction_code': 'us_wy', 'company_number': '2020-000958469', 'opencorporates_url': 'https://opencorporates.com/companies/us_wy/2020-000958469'}}}, {'officer': {'id': 629046315, 'uid': '4704761', 'name': 'Richard Shanor.strip', 'jurisdiction_code': 'us_wy', 'position': 'organizer', 'retrieved_at': '2022-01-03T00:00:00+00:00', 'opencorporates_url': 'https://opencorporates.com/officers/629046315', 'start_date': None, 'end_date': None, 'occupation': None, 'current_status': None, 'inactive': False, 'address': '7411 Daniel Court, Cheyenne, WY 82009', 'nationality': None, 'date_of_birth': None, 'company': {'name': 'Irishcowboys, LLC', 'jurisdiction_code': 'us_wy', 'company_number': '2021-001057638', 'opencorporates_url': 'https://opencorporates.com/companies/us_wy/2021-001057638'}}}, {'officer': {'id': 627100089, 'uid': '114958', 'name': 'Richard Shanor.strip', 'jurisdiction_code': 'us_wy', 'position': 'agent', 'retrieved_at': '2022-01-28T00:00:00+00:00', 'opencorporates_url': 'https://opencorporates.com/officers/627100089', 'start_date': None, 'end_date': None, 'occupation': None, 'current_status': None, 'inactive': False, 'address': '7411 Daniel Court, Cheyenne, WY, 82009, USA', 'nationality': None, 'date_of_birth': None, 'company': {'name': '1714 Capitol Ave. Property, LLC', 'jurisdiction_code': 'us_wy', 'company_number': '2011-000608765', 'opencorporates_url': 'https://opencorporates.com/companies/us_wy/2011-000608765'}}}, {'officer': {'id': 628456002, 'uid': '114958', 'name': 'Richard Shanor.strip', 'jurisdiction_code': 'us_wy', 'position': 'agent', 'retrieved_at': '2022-01-03T00:00:00+00:00', 'opencorporates_url': 'https://opencorporates.com/officers/628456002', 'start_date': None, 'end_date': None, 'occupation': None, 'current_status': None, 'inactive': False, 'address': '7411 Daniel Court, Cheyenne, WY, 82009, USA', 'nationality': None, 'date_of_birth': None, 'company': {'name': 'Henslayer, LLC', 'jurisdiction_code': 'us_wy', 'company_number': '2021-001012598', 'opencorporates_url': 'https://opencorporates.com/companies/us_wy/2021-001012598'}}}, {'officer': {'id': 626809878, 'uid': '60422', 'name': 'Richard Shanor.strip', 'jurisdiction_code': 'us_wy', 'position': 'agent', 'retrieved_at': '2022-01-28T00:00:00+00:00', 'opencorporates_url': 'https://opencorporates.com/officers/626809878', 'start_date': None, 'end_date': None, 'occupation': None, 'current_status': None, 'inactive': False, 'address': '15 N Piney St, Story, WY, 82842, USA', 'nationality': None, 'date_of_birth': None, 'company': {'name': 'Story Centennial Ranch Home Owners Association', 'jurisdiction_code': 'us_wy', 'company_number': '1998-000337368', 'opencorporates_url': 'https://opencorporates.com/companies/us_wy/1998-000337368'}}}, {'officer': {'id': 627477528, 'uid': '114958', 'name': 'Richard Shanor.strip', 'jurisdiction_code': 'us_wy', 'position': 'agent', 'retrieved_at': '2022-01-28T00:00:00+00:00', 'opencorporates_url': 'https://opencorporates.com/officers/627477528', 'start_date': None, 'end_date': None, 'occupation': None, 'current_status': None, 'inactive': False, 'address': '7411 Daniel Court, Cheyenne, WY, 82009, USA', 'nationality': None, 'date_of_birth': None, 'company': {'name': 'PUGMARK307, LLC', 'jurisdiction_code': 'us_wy', 'company_number': '2017-000746721', 'opencorporates_url': 'https://opencorporates.com/companies/us_wy/2017-000746721'}}}, {'officer': {'id': 627599352, 'uid': '114958', 'name': 'Richard Shanor.strip', 'jurisdiction_code': 'us_wy', 'position': 'agent', 'retrieved_at': '2022-01-28T00:00:00+00:00', 'opencorporates_url': 'https://opencorporates.com/officers/627599352', 'start_date': None, 'end_date': None, 'occupation': None, 'current_status': None, 'inactive': False, 'address': '7411 Daniel Court, Cheyenne, WY, 82009, USA', 'nationality': None, 'date_of_birth': None, 'company': {'name': 'Jellyfish307, LLC', 'jurisdiction_code': 'us_wy', 'company_number': '2018-000821550', 'opencorporates_url': 'https://opencorporates.com/companies/us_wy/2018-000821550'}}}, {'officer': {'id': 629046318, 'uid': '114958', 'name': 'Richard Shanor.strip', 'jurisdiction_code': 'us_wy', 'position': 'agent', 'retrieved_at': '2022-01-03T00:00:00+00:00', 'opencorporates_url': 'https://opencorporates.com/officers/629046318', 'start_date': None, 'end_date': None, 'occupation': None, 'current_status': None, 'inactive': False, 'address': '7411 Daniel Court, Cheyenne, WY, 82009, USA', 'nationality': None, 'date_of_birth': None, 'company': {'name': 'Irishcowboys, LLC', 'jurisdiction_code': 'us_wy', 'company_number': '2021-001057638', 'opencorporates_url': 'https://opencorporates.com/companies/us_wy/2021-001057638'}}}, {'officer': {'id': 627477525, 'uid': '3422222', 'name': 'Richard Shanor.strip', 'jurisdiction_code': 'us_wy', 'position': 'organizer', 'retrieved_at': '2022-01-28T00:00:00+00:00', 'opencorporates_url': 'https://opencorporates.com/officers/627477525', 'start_date': None, 'end_date': None, 'occupation': None, 'current_status': None, 'inactive': False, 'address': '7411 Daniel Ct, Cheyenne, Laramie County, WY  82009', 'nationality': None, 'date_of_birth': None, 'company': {'name': 'PUGMARK307, LLC', 'jurisdiction_code': 'us_wy', 'company_number': '2017-000746721', 'opencorporates_url': 'https://opencorporates.com/companies/us_wy/2017-000746721'}}}, {'officer': {'id': 627590781, 'uid': '114958', 'name': 'Richard Shanor.strip', 'jurisdiction_code': 'us_wy', 'position': 'agent', 'retrieved_at': '2022-01-28T00:00:00+00:00', 'opencorporates_url': 'https://opencorporates.com/officers/627590781', 'start_date': None, 'end_date': None, 'occupation': None, 'current_status': None, 'inactive': False, 'address': '7411 Daniel Court, Cheyenne, WY, 82009, USA', 'nationality': None, 'date_of_birth': None, 'company': {'name': 'The Leon Group, LLC', 'jurisdiction_code': 'us_wy', 'company_number': '2018-000817251', 'opencorporates_url': 'https://opencorporates.com/companies/us_wy/2018-000817251'}}}, {'officer': {'id': 628157493, 'uid': '114958', 'name': 'Richard Shanor.strip', 'jurisdiction_code': 'us_wy', 'position': 'agent', 'retrieved_at': '2022-01-03T00:00:00+00:00', 'opencorporates_url': 'https://opencorporates.com/officers/628157493', 'start_date': None, 'end_date': None, 'occupation': None, 'current_status': None, 'inactive': False, 'address': '7411 Daniel Court, Cheyenne, WY, 82009, USA', 'nationality': None, 'date_of_birth': None, 'company': {'name': 'CloverDog,LLC', 'jurisdiction_code': 'us_wy', 'company_number': '2020-000946604', 'opencorporates_url': 'https://opencorporates.com/companies/us_wy/2020-000946604'}}}, {'officer': {'id': 628209990, 'uid': '114958', 'name': 'Richard Shanor.strip', 'jurisdiction_code': 'us_wy', 'position': 'agent', 'retrieved_at': '2022-01-03T00:00:00+00:00', 'opencorporates_url': 'https://opencorporates.com/officers/628209990', 'start_date': None, 'end_date': None, 'occupation': None, 'current_status': None, 'inactive': False, 'address': '7411 Daniel Court, Cheyenne, WY, 82009, USA', 'nationality': None, 'date_of_birth': None, 'company': {'name': 'IrishEli, LLC', 'jurisdiction_code': 'us_wy', 'company_number': '2020-000958469', 'opencorporates_url': 'https://opencorporates.com/companies/us_wy/2020-000958469'}}}, {'officer': {'id': 628325856, 'uid': '114958', 'name': 'Richard Shanor.strip', 'jurisdiction_code': 'us_wy', 'position': 'agent', 'retrieved_at': '2021-11-29T00:00:00+00:00', 'opencorporates_url': 'https://opencorporates.com/officers/628325856', 'start_date': None, 'end_date': None, 'occupation': None, 'current_status': None, 'inactive': False, 'address': '7411 Daniel Court, Cheyenne, WY, 82009, USA', 'nationality': None, 'date_of_birth': None, 'company': {'name': 'Cocoscabana LLC', 'jurisdiction_code': 'us_wy', 'company_number': '2021-000984381', 'opencorporates_url': 'https://opencorporates.com/companies/us_wy/2021-000984381'}}}, {'officer': {'id': 628395912, 'uid': '114958', 'name': 'Richard Shanor.strip', 'jurisdiction_code': 'us_wy', 'position': 'agent', 'retrieved_at': '2022-01-03T00:00:00+00:00', 'opencorporates_url': 'https://opencorporates.com/officers/628395912', 'start_date': None, 'end_date': None, 'occupation': None, 'current_status': None, 'inactive': False, 'address': '7411 Daniel Court, Cheyenne, WY, 82009, USA', 'nationality': None, 'date_of_birth': None, 'company': {'name': 'GEW Inc.', 'jurisdiction_code': 'us_wy', 'company_number': '2021-000999551', 'opencorporates_url': 'https://opencorporates.com/companies/us_wy/2021-000999551'}}}, {'officer': {'id': 627671529, 'uid': '114958', 'name': 'Richard Shanor.strip', 'jurisdiction_code': 'us_wy', 'position': 'agent', 'retrieved_at': '2022-01-28T00:00:00+00:00', 'opencorporates_url': 'https://opencorporates.com/officers/627671529', 'start_date': None, 'end_date': None, 'occupation': None, 'current_status': None, 'inactive': False, 'address': '7411 Daniel Court, Cheyenne, WY, 82009, USA', 'nationality': None, 'date_of_birth': None, 'company': {'name': 'Argos22, LLC', 'jurisdiction_code': 'us_wy', 'company_number': '2019-000844890', 'opencorporates_url': 'https://opencorporates.com/companies/us_wy/2019-000844890'}}}, {'officer': {'id': 627599349, 'uid': '3808449', 'name': 'richard shanor.strip', 'jurisdiction_code': 'us_wy', 'position': 'organizer', 'retrieved_at': '2022-01-28T00:00:00+00:00', 'opencorporates_url': 'https://opencorporates.com/officers/627599349', 'start_date': None, 'end_date': None, 'occupation': None, 'current_status': None, 'inactive': False, 'address': '7411 Daniel Court, Cheyenne, WY 82009', 'nationality': None, 'date_of_birth': None, 'company': {'name': 'Jellyfish307, LLC', 'jurisdiction_code': 'us_wy', 'company_number': '2018-000821550', 'opencorporates_url': 'https://opencorporates.com/companies/us_wy/2018-000821550'}}}, {'officer': {'id': 627729186, 'uid': '3989286', 'name': 'richard shanor.strip', 'jurisdiction_code': 'us_wy', 'position': 'organizer', 'retrieved_at': '2022-01-28T00:00:00+00:00', 'opencorporates_url': 'https://opencorporates.com/officers/627729186', 'start_date': None, 'end_date': None, 'occupation': None, 'current_status': None, 'inactive': False, 'address': '7411 Daniel Court, Cheyenne, WY 82009', 'nationality': None, 'date_of_birth': None, 'company': {'name': '7Out,LLC', 'jurisdiction_code': 'us_wy', 'company_number': '2019-000856858', 'opencorporates_url': 'https://opencorporates.com/companies/us_wy/2019-000856858'}}}]}}\n"
          ]
        }
      ],
      "source": [
        "get_llc_data('https://api.opencorporates.com/v0.4/officers/search?&q=Melodie+Hill&page=1')\n",
        "get_llc_data('https://api.opencorporates.com/v0.4/officers/search?&q=Melodie+Hill&page=2')"
      ]
    },
    {
      "cell_type": "markdown",
      "metadata": {
        "id": "EqYfBW3yheWI"
      },
      "source": [
        "**Convert to DataFrame and Save as CSV**"
      ]
    },
    {
      "cell_type": "code",
      "execution_count": null,
      "metadata": {
        "colab": {
          "base_uri": "https://localhost:8080/",
          "height": 670
        },
        "id": "_OKZcVQifOHE",
        "outputId": "2fd28f30-06ef-4d01-9d37-b2abaa786a89"
      },
      "outputs": [
        {
          "data": {
            "text/html": [
              "\n",
              "  <div id=\"df-49613ae4-f5aa-41ac-bb1d-8b40f30fb916\">\n",
              "    <div class=\"colab-df-container\">\n",
              "      <div>\n",
              "<style scoped>\n",
              "    .dataframe tbody tr th:only-of-type {\n",
              "        vertical-align: middle;\n",
              "    }\n",
              "\n",
              "    .dataframe tbody tr th {\n",
              "        vertical-align: top;\n",
              "    }\n",
              "\n",
              "    .dataframe thead th {\n",
              "        text-align: right;\n",
              "    }\n",
              "</style>\n",
              "<table border=\"1\" class=\"dataframe\">\n",
              "  <thead>\n",
              "    <tr style=\"text-align: right;\">\n",
              "      <th></th>\n",
              "      <th>company_name</th>\n",
              "      <th>company_number</th>\n",
              "      <th>url</th>\n",
              "      <th>inactive</th>\n",
              "      <th>jurisdiction_code</th>\n",
              "      <th>name</th>\n",
              "      <th>position</th>\n",
              "    </tr>\n",
              "  </thead>\n",
              "  <tbody>\n",
              "    <tr>\n",
              "      <th>0</th>\n",
              "      <td>WCS Oil &amp; Gas Corporation</td>\n",
              "      <td>1991-000264130</td>\n",
              "      <td>https://opencorporates.com/companies/us_wy/199...</td>\n",
              "      <td>True</td>\n",
              "      <td>us_wy</td>\n",
              "      <td>Mr. Richard E. Shanor</td>\n",
              "      <td>agent</td>\n",
              "    </tr>\n",
              "    <tr>\n",
              "      <th>1</th>\n",
              "      <td>Derwen Resources LLC</td>\n",
              "      <td>0800304885</td>\n",
              "      <td>https://opencorporates.com/companies/us_tx/080...</td>\n",
              "      <td>True</td>\n",
              "      <td>us_tx</td>\n",
              "      <td>Richard Lee Shanor</td>\n",
              "      <td>agent</td>\n",
              "    </tr>\n",
              "    <tr>\n",
              "      <th>2</th>\n",
              "      <td>PATCHES L.P.</td>\n",
              "      <td>10078466</td>\n",
              "      <td>https://opencorporates.com/companies/us_ga/100...</td>\n",
              "      <td>False</td>\n",
              "      <td>us_ga</td>\n",
              "      <td>RICHARD MCRAE SHANOR</td>\n",
              "      <td>general partner</td>\n",
              "    </tr>\n",
              "    <tr>\n",
              "      <th>3</th>\n",
              "      <td>Venango Oil Company LLC</td>\n",
              "      <td>0801004729</td>\n",
              "      <td>https://opencorporates.com/companies/us_tx/080...</td>\n",
              "      <td>True</td>\n",
              "      <td>us_tx</td>\n",
              "      <td>RICHARD SHANOR</td>\n",
              "      <td>director</td>\n",
              "    </tr>\n",
              "    <tr>\n",
              "      <th>4</th>\n",
              "      <td>Venango Oil Company LLC</td>\n",
              "      <td>0801004729</td>\n",
              "      <td>https://opencorporates.com/companies/us_tx/080...</td>\n",
              "      <td>True</td>\n",
              "      <td>us_tx</td>\n",
              "      <td>RICHARD SHANOR</td>\n",
              "      <td>managing member</td>\n",
              "    </tr>\n",
              "    <tr>\n",
              "      <th>...</th>\n",
              "      <td>...</td>\n",
              "      <td>...</td>\n",
              "      <td>...</td>\n",
              "      <td>...</td>\n",
              "      <td>...</td>\n",
              "      <td>...</td>\n",
              "      <td>...</td>\n",
              "    </tr>\n",
              "    <tr>\n",
              "      <th>86</th>\n",
              "      <td>Cocoscabana LLC</td>\n",
              "      <td>2021-000984381</td>\n",
              "      <td>https://opencorporates.com/companies/us_wy/202...</td>\n",
              "      <td>False</td>\n",
              "      <td>us_wy</td>\n",
              "      <td>Richard Shanor.strip</td>\n",
              "      <td>agent</td>\n",
              "    </tr>\n",
              "    <tr>\n",
              "      <th>87</th>\n",
              "      <td>GEW Inc.</td>\n",
              "      <td>2021-000999551</td>\n",
              "      <td>https://opencorporates.com/companies/us_wy/202...</td>\n",
              "      <td>False</td>\n",
              "      <td>us_wy</td>\n",
              "      <td>Richard Shanor.strip</td>\n",
              "      <td>agent</td>\n",
              "    </tr>\n",
              "    <tr>\n",
              "      <th>88</th>\n",
              "      <td>Argos22, LLC</td>\n",
              "      <td>2019-000844890</td>\n",
              "      <td>https://opencorporates.com/companies/us_wy/201...</td>\n",
              "      <td>False</td>\n",
              "      <td>us_wy</td>\n",
              "      <td>Richard Shanor.strip</td>\n",
              "      <td>agent</td>\n",
              "    </tr>\n",
              "    <tr>\n",
              "      <th>89</th>\n",
              "      <td>Jellyfish307, LLC</td>\n",
              "      <td>2018-000821550</td>\n",
              "      <td>https://opencorporates.com/companies/us_wy/201...</td>\n",
              "      <td>False</td>\n",
              "      <td>us_wy</td>\n",
              "      <td>richard shanor.strip</td>\n",
              "      <td>organizer</td>\n",
              "    </tr>\n",
              "    <tr>\n",
              "      <th>90</th>\n",
              "      <td>7Out,LLC</td>\n",
              "      <td>2019-000856858</td>\n",
              "      <td>https://opencorporates.com/companies/us_wy/201...</td>\n",
              "      <td>False</td>\n",
              "      <td>us_wy</td>\n",
              "      <td>richard shanor.strip</td>\n",
              "      <td>organizer</td>\n",
              "    </tr>\n",
              "  </tbody>\n",
              "</table>\n",
              "<p>91 rows × 7 columns</p>\n",
              "</div>\n",
              "      <button class=\"colab-df-convert\" onclick=\"convertToInteractive('df-49613ae4-f5aa-41ac-bb1d-8b40f30fb916')\"\n",
              "              title=\"Convert this dataframe to an interactive table.\"\n",
              "              style=\"display:none;\">\n",
              "        \n",
              "  <svg xmlns=\"http://www.w3.org/2000/svg\" height=\"24px\"viewBox=\"0 0 24 24\"\n",
              "       width=\"24px\">\n",
              "    <path d=\"M0 0h24v24H0V0z\" fill=\"none\"/>\n",
              "    <path d=\"M18.56 5.44l.94 2.06.94-2.06 2.06-.94-2.06-.94-.94-2.06-.94 2.06-2.06.94zm-11 1L8.5 8.5l.94-2.06 2.06-.94-2.06-.94L8.5 2.5l-.94 2.06-2.06.94zm10 10l.94 2.06.94-2.06 2.06-.94-2.06-.94-.94-2.06-.94 2.06-2.06.94z\"/><path d=\"M17.41 7.96l-1.37-1.37c-.4-.4-.92-.59-1.43-.59-.52 0-1.04.2-1.43.59L10.3 9.45l-7.72 7.72c-.78.78-.78 2.05 0 2.83L4 21.41c.39.39.9.59 1.41.59.51 0 1.02-.2 1.41-.59l7.78-7.78 2.81-2.81c.8-.78.8-2.07 0-2.86zM5.41 20L4 18.59l7.72-7.72 1.47 1.35L5.41 20z\"/>\n",
              "  </svg>\n",
              "      </button>\n",
              "      \n",
              "  <style>\n",
              "    .colab-df-container {\n",
              "      display:flex;\n",
              "      flex-wrap:wrap;\n",
              "      gap: 12px;\n",
              "    }\n",
              "\n",
              "    .colab-df-convert {\n",
              "      background-color: #E8F0FE;\n",
              "      border: none;\n",
              "      border-radius: 50%;\n",
              "      cursor: pointer;\n",
              "      display: none;\n",
              "      fill: #1967D2;\n",
              "      height: 32px;\n",
              "      padding: 0 0 0 0;\n",
              "      width: 32px;\n",
              "    }\n",
              "\n",
              "    .colab-df-convert:hover {\n",
              "      background-color: #E2EBFA;\n",
              "      box-shadow: 0px 1px 2px rgba(60, 64, 67, 0.3), 0px 1px 3px 1px rgba(60, 64, 67, 0.15);\n",
              "      fill: #174EA6;\n",
              "    }\n",
              "\n",
              "    [theme=dark] .colab-df-convert {\n",
              "      background-color: #3B4455;\n",
              "      fill: #D2E3FC;\n",
              "    }\n",
              "\n",
              "    [theme=dark] .colab-df-convert:hover {\n",
              "      background-color: #434B5C;\n",
              "      box-shadow: 0px 1px 3px 1px rgba(0, 0, 0, 0.15);\n",
              "      filter: drop-shadow(0px 1px 2px rgba(0, 0, 0, 0.3));\n",
              "      fill: #FFFFFF;\n",
              "    }\n",
              "  </style>\n",
              "\n",
              "      <script>\n",
              "        const buttonEl =\n",
              "          document.querySelector('#df-49613ae4-f5aa-41ac-bb1d-8b40f30fb916 button.colab-df-convert');\n",
              "        buttonEl.style.display =\n",
              "          google.colab.kernel.accessAllowed ? 'block' : 'none';\n",
              "\n",
              "        async function convertToInteractive(key) {\n",
              "          const element = document.querySelector('#df-49613ae4-f5aa-41ac-bb1d-8b40f30fb916');\n",
              "          const dataTable =\n",
              "            await google.colab.kernel.invokeFunction('convertToInteractive',\n",
              "                                                     [key], {});\n",
              "          if (!dataTable) return;\n",
              "\n",
              "          const docLinkHtml = 'Like what you see? Visit the ' +\n",
              "            '<a target=\"_blank\" href=https://colab.research.google.com/notebooks/data_table.ipynb>data table notebook</a>'\n",
              "            + ' to learn more about interactive tables.';\n",
              "          element.innerHTML = '';\n",
              "          dataTable['output_type'] = 'display_data';\n",
              "          await google.colab.output.renderOutput(dataTable, element);\n",
              "          const docLink = document.createElement('div');\n",
              "          docLink.innerHTML = docLinkHtml;\n",
              "          element.appendChild(docLink);\n",
              "        }\n",
              "      </script>\n",
              "    </div>\n",
              "  </div>\n",
              "  "
            ],
            "text/plain": [
              "                 company_name  company_number  \\\n",
              "0   WCS Oil & Gas Corporation  1991-000264130   \n",
              "1        Derwen Resources LLC      0800304885   \n",
              "2                PATCHES L.P.        10078466   \n",
              "3     Venango Oil Company LLC      0801004729   \n",
              "4     Venango Oil Company LLC      0801004729   \n",
              "..                        ...             ...   \n",
              "86            Cocoscabana LLC  2021-000984381   \n",
              "87                   GEW Inc.  2021-000999551   \n",
              "88               Argos22, LLC  2019-000844890   \n",
              "89          Jellyfish307, LLC  2018-000821550   \n",
              "90                   7Out,LLC  2019-000856858   \n",
              "\n",
              "                                                  url  inactive  \\\n",
              "0   https://opencorporates.com/companies/us_wy/199...      True   \n",
              "1   https://opencorporates.com/companies/us_tx/080...      True   \n",
              "2   https://opencorporates.com/companies/us_ga/100...     False   \n",
              "3   https://opencorporates.com/companies/us_tx/080...      True   \n",
              "4   https://opencorporates.com/companies/us_tx/080...      True   \n",
              "..                                                ...       ...   \n",
              "86  https://opencorporates.com/companies/us_wy/202...     False   \n",
              "87  https://opencorporates.com/companies/us_wy/202...     False   \n",
              "88  https://opencorporates.com/companies/us_wy/201...     False   \n",
              "89  https://opencorporates.com/companies/us_wy/201...     False   \n",
              "90  https://opencorporates.com/companies/us_wy/201...     False   \n",
              "\n",
              "   jurisdiction_code                   name         position  \n",
              "0              us_wy  Mr. Richard E. Shanor            agent  \n",
              "1              us_tx     Richard Lee Shanor            agent  \n",
              "2              us_ga   RICHARD MCRAE SHANOR  general partner  \n",
              "3              us_tx         RICHARD SHANOR         director  \n",
              "4              us_tx         RICHARD SHANOR  managing member  \n",
              "..               ...                    ...              ...  \n",
              "86             us_wy   Richard Shanor.strip            agent  \n",
              "87             us_wy   Richard Shanor.strip            agent  \n",
              "88             us_wy   Richard Shanor.strip            agent  \n",
              "89             us_wy   richard shanor.strip        organizer  \n",
              "90             us_wy   richard shanor.strip        organizer  \n",
              "\n",
              "[91 rows x 7 columns]"
            ]
          },
          "execution_count": 7,
          "metadata": {},
          "output_type": "execute_result"
        }
      ],
      "source": [
        "llc_df = pd.DataFrame(data=llc_list, columns=['company_name', 'company_number', 'url', 'inactive', 'jurisdiction_code', 'name', 'position'])\n",
        "llc_df"
      ]
    },
    {
      "cell_type": "code",
      "execution_count": null,
      "metadata": {
        "colab": {
          "base_uri": "https://localhost:8080/",
          "height": 34
        },
        "id": "MF7JSv8DgMpN",
        "outputId": "fdd981ce-ae7b-4313-bc65-9cfc2f3c7994"
      },
      "outputs": [
        {
          "data": {
            "application/javascript": "\n    async function download(id, filename, size) {\n      if (!google.colab.kernel.accessAllowed) {\n        return;\n      }\n      const div = document.createElement('div');\n      const label = document.createElement('label');\n      label.textContent = `Downloading \"${filename}\": `;\n      div.appendChild(label);\n      const progress = document.createElement('progress');\n      progress.max = size;\n      div.appendChild(progress);\n      document.body.appendChild(div);\n\n      const buffers = [];\n      let downloaded = 0;\n\n      const channel = await google.colab.kernel.comms.open(id);\n      // Send a message to notify the kernel that we're ready.\n      channel.send({})\n\n      for await (const message of channel.messages) {\n        // Send a message to notify the kernel that we're ready.\n        channel.send({})\n        if (message.buffers) {\n          for (const buffer of message.buffers) {\n            buffers.push(buffer);\n            downloaded += buffer.byteLength;\n            progress.value = downloaded;\n          }\n        }\n      }\n      const blob = new Blob(buffers, {type: 'application/binary'});\n      const a = document.createElement('a');\n      a.href = window.URL.createObjectURL(blob);\n      a.download = filename;\n      div.appendChild(a);\n      a.click();\n      div.remove();\n    }\n  ",
            "text/plain": [
              "<IPython.core.display.Javascript object>"
            ]
          },
          "metadata": {},
          "output_type": "display_data"
        },
        {
          "data": {
            "application/javascript": "download(\"download_1105bdfe-f3eb-4aac-8672-f4e4c69c03da\", \"shanor.csv\", 12392)",
            "text/plain": [
              "<IPython.core.display.Javascript object>"
            ]
          },
          "metadata": {},
          "output_type": "display_data"
        }
      ],
      "source": [
        "llc_df.to_csv('hill.csv')\n",
        "from google.colab import files\n",
        "files.download(\"hill.csv\")"
      ]
    }
  ],
  "metadata": {
    "colab": {
      "collapsed_sections": [],
      "name": "WYOMING SCRAPER.ipynb",
      "provenance": []
    },
    "kernelspec": {
      "display_name": "Python 3",
      "name": "python3"
    },
    "language_info": {
      "name": "python"
    }
  },
  "nbformat": 4,
  "nbformat_minor": 0
}
